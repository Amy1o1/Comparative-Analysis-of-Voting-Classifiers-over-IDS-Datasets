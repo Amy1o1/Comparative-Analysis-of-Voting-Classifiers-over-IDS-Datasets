{
 "cells": [
  {
   "cell_type": "code",
   "execution_count": 2,
   "id": "cd54b490",
   "metadata": {},
   "outputs": [],
   "source": [
    "import pandas as pd\n",
    "import numpy as np\n",
    "import matplotlib\n",
    "import matplotlib.pyplot as plt\n",
    "import seaborn as sns"
   ]
  },
  {
   "cell_type": "code",
   "execution_count": 3,
   "id": "c7444632",
   "metadata": {},
   "outputs": [
    {
     "data": {
      "text/html": [
       "<div>\n",
       "<style scoped>\n",
       "    .dataframe tbody tr th:only-of-type {\n",
       "        vertical-align: middle;\n",
       "    }\n",
       "\n",
       "    .dataframe tbody tr th {\n",
       "        vertical-align: top;\n",
       "    }\n",
       "\n",
       "    .dataframe thead th {\n",
       "        text-align: right;\n",
       "    }\n",
       "</style>\n",
       "<table border=\"1\" class=\"dataframe\">\n",
       "  <thead>\n",
       "    <tr style=\"text-align: right;\">\n",
       "      <th></th>\n",
       "      <th>IPV4_SRC_ADDR</th>\n",
       "      <th>L4_SRC_PORT</th>\n",
       "      <th>IPV4_DST_ADDR</th>\n",
       "      <th>L4_DST_PORT</th>\n",
       "      <th>PROTOCOL</th>\n",
       "      <th>L7_PROTO</th>\n",
       "      <th>IN_BYTES</th>\n",
       "      <th>OUT_BYTES</th>\n",
       "      <th>IN_PKTS</th>\n",
       "      <th>OUT_PKTS</th>\n",
       "      <th>TCP_FLAGS</th>\n",
       "      <th>FLOW_DURATION_MILLISECONDS</th>\n",
       "      <th>Label</th>\n",
       "      <th>Attack</th>\n",
       "      <th>Dataset</th>\n",
       "    </tr>\n",
       "  </thead>\n",
       "  <tbody>\n",
       "    <tr>\n",
       "      <th>2326561</th>\n",
       "      <td>192.168.1.35</td>\n",
       "      <td>51722</td>\n",
       "      <td>192.168.1.190</td>\n",
       "      <td>80</td>\n",
       "      <td>6</td>\n",
       "      <td>7.0</td>\n",
       "      <td>758</td>\n",
       "      <td>2239</td>\n",
       "      <td>5</td>\n",
       "      <td>6</td>\n",
       "      <td>27</td>\n",
       "      <td>55</td>\n",
       "      <td>1</td>\n",
       "      <td>xss</td>\n",
       "      <td>NF-ToN-IoT</td>\n",
       "    </tr>\n",
       "    <tr>\n",
       "      <th>6890694</th>\n",
       "      <td>193.111.198.10</td>\n",
       "      <td>59598</td>\n",
       "      <td>172.31.64.80</td>\n",
       "      <td>3389</td>\n",
       "      <td>6</td>\n",
       "      <td>0.0</td>\n",
       "      <td>2014</td>\n",
       "      <td>2103</td>\n",
       "      <td>14</td>\n",
       "      <td>9</td>\n",
       "      <td>219</td>\n",
       "      <td>4291214</td>\n",
       "      <td>0</td>\n",
       "      <td>Benign</td>\n",
       "      <td>NF-CSE-CIC-IDS2018</td>\n",
       "    </tr>\n",
       "    <tr>\n",
       "      <th>5783894</th>\n",
       "      <td>202.5.196.66</td>\n",
       "      <td>55126</td>\n",
       "      <td>172.31.65.116</td>\n",
       "      <td>445</td>\n",
       "      <td>6</td>\n",
       "      <td>0.0</td>\n",
       "      <td>498</td>\n",
       "      <td>342</td>\n",
       "      <td>5</td>\n",
       "      <td>4</td>\n",
       "      <td>30</td>\n",
       "      <td>4294316</td>\n",
       "      <td>0</td>\n",
       "      <td>Benign</td>\n",
       "      <td>NF-CSE-CIC-IDS2018</td>\n",
       "    </tr>\n",
       "    <tr>\n",
       "      <th>7393936</th>\n",
       "      <td>212.3.106.198</td>\n",
       "      <td>63941</td>\n",
       "      <td>172.31.64.121</td>\n",
       "      <td>3389</td>\n",
       "      <td>6</td>\n",
       "      <td>0.0</td>\n",
       "      <td>1376</td>\n",
       "      <td>1717</td>\n",
       "      <td>8</td>\n",
       "      <td>7</td>\n",
       "      <td>30</td>\n",
       "      <td>4291158</td>\n",
       "      <td>0</td>\n",
       "      <td>Benign</td>\n",
       "      <td>NF-CSE-CIC-IDS2018</td>\n",
       "    </tr>\n",
       "    <tr>\n",
       "      <th>9937335</th>\n",
       "      <td>172.31.69.25</td>\n",
       "      <td>80</td>\n",
       "      <td>52.14.136.135</td>\n",
       "      <td>52092</td>\n",
       "      <td>6</td>\n",
       "      <td>0.0</td>\n",
       "      <td>1136</td>\n",
       "      <td>0</td>\n",
       "      <td>4</td>\n",
       "      <td>0</td>\n",
       "      <td>27</td>\n",
       "      <td>0</td>\n",
       "      <td>0</td>\n",
       "      <td>Benign</td>\n",
       "      <td>NF-CSE-CIC-IDS2018</td>\n",
       "    </tr>\n",
       "  </tbody>\n",
       "</table>\n",
       "</div>"
      ],
      "text/plain": [
       "          IPV4_SRC_ADDR  L4_SRC_PORT  IPV4_DST_ADDR  L4_DST_PORT  PROTOCOL  \\\n",
       "2326561    192.168.1.35        51722  192.168.1.190           80         6   \n",
       "6890694  193.111.198.10        59598   172.31.64.80         3389         6   \n",
       "5783894    202.5.196.66        55126  172.31.65.116          445         6   \n",
       "7393936   212.3.106.198        63941  172.31.64.121         3389         6   \n",
       "9937335    172.31.69.25           80  52.14.136.135        52092         6   \n",
       "\n",
       "         L7_PROTO  IN_BYTES  OUT_BYTES  IN_PKTS  OUT_PKTS  TCP_FLAGS  \\\n",
       "2326561       7.0       758       2239        5         6         27   \n",
       "6890694       0.0      2014       2103       14         9        219   \n",
       "5783894       0.0       498        342        5         4         30   \n",
       "7393936       0.0      1376       1717        8         7         30   \n",
       "9937335       0.0      1136          0        4         0         27   \n",
       "\n",
       "         FLOW_DURATION_MILLISECONDS  Label  Attack             Dataset  \n",
       "2326561                          55      1     xss          NF-ToN-IoT  \n",
       "6890694                     4291214      0  Benign  NF-CSE-CIC-IDS2018  \n",
       "5783894                     4294316      0  Benign  NF-CSE-CIC-IDS2018  \n",
       "7393936                     4291158      0  Benign  NF-CSE-CIC-IDS2018  \n",
       "9937335                           0      0  Benign  NF-CSE-CIC-IDS2018  "
      ]
     },
     "execution_count": 3,
     "metadata": {},
     "output_type": "execute_result"
    }
   ],
   "source": [
    "ds = pd.read_csv('NF-UQ-NIDS.csv')\n",
    "ds.sample(5)"
   ]
  },
  {
   "cell_type": "code",
   "execution_count": 4,
   "id": "69cab25a",
   "metadata": {},
   "outputs": [],
   "source": [
    "# 0 ----> benign\n",
    "# 1 ----> attack\n",
    "\n",
    "features = ['IPV4_SRC_ADDR',\n",
    "'IPV4_DST_ADDR',\n",
    "'L4_SRC_PORT',\n",
    "'L4_DST_PORT',\n",
    "'PROTOCOL',\n",
    "'TCP_FLAGS',\n",
    "'L7_PROTO',\n",
    "'IN_BYTES',\n",
    "'OUT_BYTES',\n",
    "'IN_PKTS',\n",
    "'OUT_PKTS',\n",
    "'FLOW_DURATION_MILLISECONDS']\n"
   ]
  },
  {
   "cell_type": "code",
   "execution_count": 5,
   "id": "05d0c0b6",
   "metadata": {},
   "outputs": [
    {
     "data": {
      "text/plain": [
       "(11994893, 15)"
      ]
     },
     "execution_count": 5,
     "metadata": {},
     "output_type": "execute_result"
    }
   ],
   "source": [
    "ds.shape"
   ]
  },
  {
   "cell_type": "code",
   "execution_count": 6,
   "id": "20424c9f",
   "metadata": {},
   "outputs": [
    {
     "data": {
      "text/plain": [
       "IPV4_SRC_ADDR                 0\n",
       "L4_SRC_PORT                   0\n",
       "IPV4_DST_ADDR                 0\n",
       "L4_DST_PORT                   0\n",
       "PROTOCOL                      0\n",
       "L7_PROTO                      0\n",
       "IN_BYTES                      0\n",
       "OUT_BYTES                     0\n",
       "IN_PKTS                       0\n",
       "OUT_PKTS                      0\n",
       "TCP_FLAGS                     0\n",
       "FLOW_DURATION_MILLISECONDS    0\n",
       "Label                         0\n",
       "Attack                        0\n",
       "Dataset                       0\n",
       "dtype: int64"
      ]
     },
     "execution_count": 6,
     "metadata": {},
     "output_type": "execute_result"
    }
   ],
   "source": [
    "ds.isnull().sum()"
   ]
  },
  {
   "cell_type": "code",
   "execution_count": 7,
   "id": "f1ca73b4",
   "metadata": {},
   "outputs": [
    {
     "name": "stdout",
     "output_type": "stream",
     "text": [
      "<class 'pandas.core.frame.DataFrame'>\n",
      "RangeIndex: 11994893 entries, 0 to 11994892\n",
      "Data columns (total 15 columns):\n",
      " #   Column                      Dtype  \n",
      "---  ------                      -----  \n",
      " 0   IPV4_SRC_ADDR               object \n",
      " 1   L4_SRC_PORT                 int64  \n",
      " 2   IPV4_DST_ADDR               object \n",
      " 3   L4_DST_PORT                 int64  \n",
      " 4   PROTOCOL                    int64  \n",
      " 5   L7_PROTO                    float64\n",
      " 6   IN_BYTES                    int64  \n",
      " 7   OUT_BYTES                   int64  \n",
      " 8   IN_PKTS                     int64  \n",
      " 9   OUT_PKTS                    int64  \n",
      " 10  TCP_FLAGS                   int64  \n",
      " 11  FLOW_DURATION_MILLISECONDS  int64  \n",
      " 12  Label                       int64  \n",
      " 13  Attack                      object \n",
      " 14  Dataset                     object \n",
      "dtypes: float64(1), int64(10), object(4)\n",
      "memory usage: 1.3+ GB\n"
     ]
    }
   ],
   "source": [
    "ds.info()"
   ]
  },
  {
   "cell_type": "code",
   "execution_count": 8,
   "id": "3a91aef2",
   "metadata": {},
   "outputs": [
    {
     "name": "stdout",
     "output_type": "stream",
     "text": [
      "(1265854, 15)\n"
     ]
    },
    {
     "data": {
      "text/html": [
       "<div>\n",
       "<style scoped>\n",
       "    .dataframe tbody tr th:only-of-type {\n",
       "        vertical-align: middle;\n",
       "    }\n",
       "\n",
       "    .dataframe tbody tr th {\n",
       "        vertical-align: top;\n",
       "    }\n",
       "\n",
       "    .dataframe thead th {\n",
       "        text-align: right;\n",
       "    }\n",
       "</style>\n",
       "<table border=\"1\" class=\"dataframe\">\n",
       "  <thead>\n",
       "    <tr style=\"text-align: right;\">\n",
       "      <th></th>\n",
       "      <th>IPV4_SRC_ADDR</th>\n",
       "      <th>L4_SRC_PORT</th>\n",
       "      <th>IPV4_DST_ADDR</th>\n",
       "      <th>L4_DST_PORT</th>\n",
       "      <th>PROTOCOL</th>\n",
       "      <th>L7_PROTO</th>\n",
       "      <th>IN_BYTES</th>\n",
       "      <th>OUT_BYTES</th>\n",
       "      <th>IN_PKTS</th>\n",
       "      <th>OUT_PKTS</th>\n",
       "      <th>TCP_FLAGS</th>\n",
       "      <th>FLOW_DURATION_MILLISECONDS</th>\n",
       "      <th>Label</th>\n",
       "      <th>Attack</th>\n",
       "      <th>Dataset</th>\n",
       "    </tr>\n",
       "  </thead>\n",
       "  <tbody>\n",
       "    <tr>\n",
       "      <th>4023</th>\n",
       "      <td>10.40.85.10</td>\n",
       "      <td>0</td>\n",
       "      <td>192.168.241.50</td>\n",
       "      <td>0</td>\n",
       "      <td>1</td>\n",
       "      <td>81.0</td>\n",
       "      <td>168</td>\n",
       "      <td>0</td>\n",
       "      <td>2</td>\n",
       "      <td>0</td>\n",
       "      <td>0</td>\n",
       "      <td>0</td>\n",
       "      <td>0</td>\n",
       "      <td>Benign</td>\n",
       "      <td>NF-UNSW-NB15</td>\n",
       "    </tr>\n",
       "    <tr>\n",
       "      <th>4651</th>\n",
       "      <td>10.40.85.1</td>\n",
       "      <td>0</td>\n",
       "      <td>224.0.0.5</td>\n",
       "      <td>0</td>\n",
       "      <td>89</td>\n",
       "      <td>85.0</td>\n",
       "      <td>768</td>\n",
       "      <td>0</td>\n",
       "      <td>12</td>\n",
       "      <td>0</td>\n",
       "      <td>0</td>\n",
       "      <td>110009</td>\n",
       "      <td>0</td>\n",
       "      <td>Benign</td>\n",
       "      <td>NF-UNSW-NB15</td>\n",
       "    </tr>\n",
       "    <tr>\n",
       "      <th>4652</th>\n",
       "      <td>10.40.182.1</td>\n",
       "      <td>0</td>\n",
       "      <td>224.0.0.5</td>\n",
       "      <td>0</td>\n",
       "      <td>89</td>\n",
       "      <td>85.0</td>\n",
       "      <td>768</td>\n",
       "      <td>0</td>\n",
       "      <td>12</td>\n",
       "      <td>0</td>\n",
       "      <td>0</td>\n",
       "      <td>110009</td>\n",
       "      <td>0</td>\n",
       "      <td>Benign</td>\n",
       "      <td>NF-UNSW-NB15</td>\n",
       "    </tr>\n",
       "    <tr>\n",
       "      <th>7236</th>\n",
       "      <td>10.40.85.1</td>\n",
       "      <td>0</td>\n",
       "      <td>224.0.0.5</td>\n",
       "      <td>0</td>\n",
       "      <td>89</td>\n",
       "      <td>85.0</td>\n",
       "      <td>768</td>\n",
       "      <td>0</td>\n",
       "      <td>12</td>\n",
       "      <td>0</td>\n",
       "      <td>0</td>\n",
       "      <td>110009</td>\n",
       "      <td>0</td>\n",
       "      <td>Benign</td>\n",
       "      <td>NF-UNSW-NB15</td>\n",
       "    </tr>\n",
       "    <tr>\n",
       "      <th>7237</th>\n",
       "      <td>10.40.182.1</td>\n",
       "      <td>0</td>\n",
       "      <td>224.0.0.5</td>\n",
       "      <td>0</td>\n",
       "      <td>89</td>\n",
       "      <td>85.0</td>\n",
       "      <td>768</td>\n",
       "      <td>0</td>\n",
       "      <td>12</td>\n",
       "      <td>0</td>\n",
       "      <td>0</td>\n",
       "      <td>110009</td>\n",
       "      <td>0</td>\n",
       "      <td>Benign</td>\n",
       "      <td>NF-UNSW-NB15</td>\n",
       "    </tr>\n",
       "  </tbody>\n",
       "</table>\n",
       "</div>"
      ],
      "text/plain": [
       "     IPV4_SRC_ADDR  L4_SRC_PORT   IPV4_DST_ADDR  L4_DST_PORT  PROTOCOL  \\\n",
       "4023   10.40.85.10            0  192.168.241.50            0         1   \n",
       "4651    10.40.85.1            0       224.0.0.5            0        89   \n",
       "4652   10.40.182.1            0       224.0.0.5            0        89   \n",
       "7236    10.40.85.1            0       224.0.0.5            0        89   \n",
       "7237   10.40.182.1            0       224.0.0.5            0        89   \n",
       "\n",
       "      L7_PROTO  IN_BYTES  OUT_BYTES  IN_PKTS  OUT_PKTS  TCP_FLAGS  \\\n",
       "4023      81.0       168          0        2         0          0   \n",
       "4651      85.0       768          0       12         0          0   \n",
       "4652      85.0       768          0       12         0          0   \n",
       "7236      85.0       768          0       12         0          0   \n",
       "7237      85.0       768          0       12         0          0   \n",
       "\n",
       "      FLOW_DURATION_MILLISECONDS  Label  Attack       Dataset  \n",
       "4023                           0      0  Benign  NF-UNSW-NB15  \n",
       "4651                      110009      0  Benign  NF-UNSW-NB15  \n",
       "4652                      110009      0  Benign  NF-UNSW-NB15  \n",
       "7236                      110009      0  Benign  NF-UNSW-NB15  \n",
       "7237                      110009      0  Benign  NF-UNSW-NB15  "
      ]
     },
     "execution_count": 8,
     "metadata": {},
     "output_type": "execute_result"
    }
   ],
   "source": [
    "ds_dup = ds[ds.duplicated()]\n",
    "print(ds_dup.shape)\n",
    "ds_dup.head()"
   ]
  },
  {
   "cell_type": "code",
   "execution_count": 9,
   "id": "ce5a5ed2",
   "metadata": {},
   "outputs": [
    {
     "data": {
      "text/plain": [
       "(10265386, 15)"
      ]
     },
     "execution_count": 9,
     "metadata": {},
     "output_type": "execute_result"
    }
   ],
   "source": [
    "ds.drop_duplicates(subset=features, keep='first', inplace=True)\n",
    "ds.shape"
   ]
  },
  {
   "cell_type": "code",
   "execution_count": 10,
   "id": "a41f0417",
   "metadata": {},
   "outputs": [
    {
     "data": {
      "image/png": "[encoded data removed]",
      "text/plain": [
       "<Figure size 500x500 with 1 Axes>"
      ]
     },
     "metadata": {},
     "output_type": "display_data"
    },
    {
     "name": "stdout",
     "output_type": "stream",
     "text": [
      "Number of data points in class [1] : 8440723 ( 82.225 %)\n",
      "Number of data points in class [2] : 1824663 ( 17.775 %)\n"
     ]
    }
   ],
   "source": [
    "plt.figure(figsize=(5,5))\n",
    "class_distribution = ds['Label'].value_counts()\n",
    "sorted_yi = np.argsort(-class_distribution.values)\n",
    "class_distribution.plot(kind='bar', color=['salmon', 'lightblue'])\n",
    "plt.xlabel('Class')\n",
    "plt.ylabel('Data points per Class')\n",
    "plt.title('Distribution of yi in train data')\n",
    "plt.grid()\n",
    "plt.show()\n",
    "\n",
    "sorted_yi = np.argsort(-class_distribution.values)\n",
    "for i in sorted_yi:\n",
    "    print('Number of data points in class', [i+1], ':',class_distribution.values[i], '(', np.round((class_distribution.values[i]/ds.shape[0]*100), 3), '%)')"
   ]
  },
  {
   "cell_type": "code",
   "execution_count": 11,
   "id": "21ab1662",
   "metadata": {},
   "outputs": [
    {
     "data": {
      "text/plain": [
       "(10265386, 11)"
      ]
     },
     "execution_count": 11,
     "metadata": {},
     "output_type": "execute_result"
    }
   ],
   "source": [
    "ds = ds.drop(['IPV4_SRC_ADDR', 'IPV4_DST_ADDR', 'Attack', 'Dataset'], axis=1)\n",
    "ds.shape"
   ]
  },
  {
   "cell_type": "code",
   "execution_count": 12,
   "id": "e4c47954",
   "metadata": {},
   "outputs": [
    {
     "name": "stderr",
     "output_type": "stream",
     "text": [
      "C:\\Users\\bhadr\\AppData\\Local\\Temp\\ipykernel_600\\1413762376.py:1: FutureWarning: In a future version of pandas all arguments of DataFrame.dropna will be keyword-only.\n",
      "  ds = ds.dropna('columns')# drop columns with NaN\n"
     ]
    },
    {
     "data": {
      "image/png": "[encoded data removed]",
      "text/plain": [
       "<Figure size 1500x1200 with 2 Axes>"
      ]
     },
     "metadata": {},
     "output_type": "display_data"
    }
   ],
   "source": [
    "ds = ds.dropna('columns')# drop columns with NaN\n",
    "ds = ds[[col for col in ds if ds[col].nunique() > 1]]# keep columns where there are more than 1 unique values\n",
    "corr = ds.corr()\n",
    "\n",
    "plt.figure(figsize=(15,12))\n",
    "sns.heatmap(corr)\n",
    "plt.show()"
   ]
  },
  {
   "cell_type": "code",
   "execution_count": 13,
   "id": "bc19d5c5",
   "metadata": {},
   "outputs": [
    {
     "data": {
      "text/html": [
       "<div>\n",
       "<style scoped>\n",
       "    .dataframe tbody tr th:only-of-type {\n",
       "        vertical-align: middle;\n",
       "    }\n",
       "\n",
       "    .dataframe tbody tr th {\n",
       "        vertical-align: top;\n",
       "    }\n",
       "\n",
       "    .dataframe thead th {\n",
       "        text-align: right;\n",
       "    }\n",
       "</style>\n",
       "<table border=\"1\" class=\"dataframe\">\n",
       "  <thead>\n",
       "    <tr style=\"text-align: right;\">\n",
       "      <th></th>\n",
       "      <th>L4_SRC_PORT</th>\n",
       "      <th>L4_DST_PORT</th>\n",
       "      <th>PROTOCOL</th>\n",
       "      <th>L7_PROTO</th>\n",
       "      <th>IN_BYTES</th>\n",
       "      <th>OUT_BYTES</th>\n",
       "      <th>IN_PKTS</th>\n",
       "      <th>OUT_PKTS</th>\n",
       "      <th>TCP_FLAGS</th>\n",
       "      <th>FLOW_DURATION_MILLISECONDS</th>\n",
       "      <th>Label</th>\n",
       "    </tr>\n",
       "  </thead>\n",
       "  <tbody>\n",
       "    <tr>\n",
       "      <th>0</th>\n",
       "      <td>62073</td>\n",
       "      <td>56082</td>\n",
       "      <td>6</td>\n",
       "      <td>0.0</td>\n",
       "      <td>9672</td>\n",
       "      <td>416</td>\n",
       "      <td>11</td>\n",
       "      <td>8</td>\n",
       "      <td>25</td>\n",
       "      <td>15</td>\n",
       "      <td>0</td>\n",
       "    </tr>\n",
       "    <tr>\n",
       "      <th>1</th>\n",
       "      <td>32284</td>\n",
       "      <td>1526</td>\n",
       "      <td>6</td>\n",
       "      <td>0.0</td>\n",
       "      <td>1776</td>\n",
       "      <td>104</td>\n",
       "      <td>6</td>\n",
       "      <td>2</td>\n",
       "      <td>25</td>\n",
       "      <td>0</td>\n",
       "      <td>0</td>\n",
       "    </tr>\n",
       "    <tr>\n",
       "      <th>2</th>\n",
       "      <td>21</td>\n",
       "      <td>21971</td>\n",
       "      <td>6</td>\n",
       "      <td>1.0</td>\n",
       "      <td>1842</td>\n",
       "      <td>1236</td>\n",
       "      <td>26</td>\n",
       "      <td>22</td>\n",
       "      <td>25</td>\n",
       "      <td>1111</td>\n",
       "      <td>0</td>\n",
       "    </tr>\n",
       "    <tr>\n",
       "      <th>3</th>\n",
       "      <td>23800</td>\n",
       "      <td>46893</td>\n",
       "      <td>6</td>\n",
       "      <td>0.0</td>\n",
       "      <td>528</td>\n",
       "      <td>8824</td>\n",
       "      <td>10</td>\n",
       "      <td>12</td>\n",
       "      <td>27</td>\n",
       "      <td>124</td>\n",
       "      <td>0</td>\n",
       "    </tr>\n",
       "    <tr>\n",
       "      <th>4</th>\n",
       "      <td>63062</td>\n",
       "      <td>21</td>\n",
       "      <td>6</td>\n",
       "      <td>1.0</td>\n",
       "      <td>1786</td>\n",
       "      <td>2340</td>\n",
       "      <td>32</td>\n",
       "      <td>34</td>\n",
       "      <td>25</td>\n",
       "      <td>1459</td>\n",
       "      <td>0</td>\n",
       "    </tr>\n",
       "  </tbody>\n",
       "</table>\n",
       "</div>"
      ],
      "text/plain": [
       "   L4_SRC_PORT  L4_DST_PORT  PROTOCOL  L7_PROTO  IN_BYTES  OUT_BYTES  IN_PKTS  \\\n",
       "0        62073        56082         6       0.0      9672        416       11   \n",
       "1        32284         1526         6       0.0      1776        104        6   \n",
       "2           21        21971         6       1.0      1842       1236       26   \n",
       "3        23800        46893         6       0.0       528       8824       10   \n",
       "4        63062           21         6       1.0      1786       2340       32   \n",
       "\n",
       "   OUT_PKTS  TCP_FLAGS  FLOW_DURATION_MILLISECONDS  Label  \n",
       "0         8         25                          15      0  \n",
       "1         2         25                           0      0  \n",
       "2        22         25                        1111      0  \n",
       "3        12         27                         124      0  \n",
       "4        34         25                        1459      0  "
      ]
     },
     "execution_count": 13,
     "metadata": {},
     "output_type": "execute_result"
    }
   ],
   "source": [
    "ds.head()"
   ]
  },
  {
   "cell_type": "code",
   "execution_count": 14,
   "id": "c0591c4d",
   "metadata": {},
   "outputs": [],
   "source": [
    "ds.to_csv('NIDS_preprocessed.csv', index=False)"
   ]
  },
  {
   "cell_type": "code",
   "execution_count": 23,
   "id": "f17d6d81",
   "metadata": {},
   "outputs": [],
   "source": [
    "df = ds.sample(n=494023)"
   ]
  },
  {
   "cell_type": "code",
   "execution_count": 24,
   "id": "a156ce0a",
   "metadata": {},
   "outputs": [
    {
     "data": {
      "text/plain": [
       "(494023, 11)"
      ]
     },
     "execution_count": 24,
     "metadata": {},
     "output_type": "execute_result"
    }
   ],
   "source": [
    "df.shape"
   ]
  },
  {
   "cell_type": "code",
   "execution_count": 25,
   "id": "1a49aed0",
   "metadata": {},
   "outputs": [
    {
     "data": {
      "image/png": "[encoded data removed]",
      "text/plain": [
       "<Figure size 500x500 with 1 Axes>"
      ]
     },
     "metadata": {},
     "output_type": "display_data"
    },
    {
     "name": "stdout",
     "output_type": "stream",
     "text": [
      "Number of data points in class [1] : 405905 ( 3.954 %)\n",
      "Number of data points in class [2] : 88118 ( 0.858 %)\n"
     ]
    }
   ],
   "source": [
    "plt.figure(figsize=(5,5))\n",
    "class_distribution = df['Label'].value_counts()\n",
    "sorted_yi = np.argsort(-class_distribution.values)\n",
    "class_distribution.plot(kind='bar', color=['salmon', 'lightblue'])\n",
    "plt.xlabel('Class')\n",
    "plt.ylabel('Data points per Class')\n",
    "plt.title('Distribution of yi in train data')\n",
    "plt.grid()\n",
    "plt.show()\n",
    "\n",
    "sorted_yi = np.argsort(-class_distribution.values)\n",
    "for i in sorted_yi:\n",
    "    print('Number of data points in class', [i+1], ':',class_distribution.values[i], '(', np.round((class_distribution.values[i]/ds.shape[0]*100), 3), '%)')"
   ]
  },
  {
   "cell_type": "code",
   "execution_count": 27,
   "id": "b41bea67",
   "metadata": {},
   "outputs": [],
   "source": [
    "df.to_csv('NF-UQ-NIDS_preprocessed.csv', index=False)"
   ]
  },
  {
   "cell_type": "code",
   "execution_count": null,
   "id": "25b50fa9",
   "metadata": {},
   "outputs": [],
   "source": []
  }
 ],
 "metadata": {
  "kernelspec": {
   "display_name": "Python 3 (ipykernel)",
   "language": "python",
   "name": "python3"
  },
  "language_info": {
   "codemirror_mode": {
    "name": "ipython",
    "version": 3
   },
   "file_extension": ".py",
   "mimetype": "text/x-python",
   "name": "python",
   "nbconvert_exporter": "python",
   "pygments_lexer": "ipython3",
   "version": "3.9.13"
  }
 },
 "nbformat": 4,
 "nbformat_minor": 5
}
